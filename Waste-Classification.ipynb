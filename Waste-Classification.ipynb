{
  "cells": [
    {
      "cell_type": "markdown",
      "metadata": {
        "id": "view-in-github",
        "colab_type": "text"
      },
      "source": [
        "<a href=\"https://colab.research.google.com/github/bay195/Waste-Classification/blob/main/Waste-Classification.ipynb\" target=\"_parent\"><img src=\"https://colab.research.google.com/assets/colab-badge.svg\" alt=\"Open In Colab\"/></a>"
      ]
    },
    {
      "cell_type": "markdown",
      "metadata": {
        "id": "srmvNH6kUx6D"
      },
      "source": [
        "#UAS Machine Learning\n",
        "# **Kelompok 6**\n",
        "1. Bayu Unggul Sejati\n",
        "2. Hengky Triyo\n",
        "3. Salwa Salsabila\n",
        "4. Rafi Albar Kurniawan"
      ]
    },
    {
      "cell_type": "code",
      "execution_count": null,
      "metadata": {
        "colab": {
          "base_uri": "https://localhost:8080/"
        },
        "id": "A1VPyXnLUkgT",
        "outputId": "289d89e9-1816-4a7f-fc47-add04df54747"
      },
      "outputs": [
        {
          "output_type": "stream",
          "name": "stdout",
          "text": [
            "Requirement already satisfied: tensorflow in /usr/local/lib/python3.10/dist-packages (2.15.0)\n",
            "Requirement already satisfied: absl-py>=1.0.0 in /usr/local/lib/python3.10/dist-packages (from tensorflow) (1.4.0)\n",
            "Requirement already satisfied: astunparse>=1.6.0 in /usr/local/lib/python3.10/dist-packages (from tensorflow) (1.6.3)\n",
            "Requirement already satisfied: flatbuffers>=23.5.26 in /usr/local/lib/python3.10/dist-packages (from tensorflow) (24.3.25)\n",
            "Requirement already satisfied: gast!=0.5.0,!=0.5.1,!=0.5.2,>=0.2.1 in /usr/local/lib/python3.10/dist-packages (from tensorflow) (0.5.4)\n",
            "Requirement already satisfied: google-pasta>=0.1.1 in /usr/local/lib/python3.10/dist-packages (from tensorflow) (0.2.0)\n",
            "Requirement already satisfied: h5py>=2.9.0 in /usr/local/lib/python3.10/dist-packages (from tensorflow) (3.9.0)\n",
            "Requirement already satisfied: libclang>=13.0.0 in /usr/local/lib/python3.10/dist-packages (from tensorflow) (18.1.1)\n",
            "Requirement already satisfied: ml-dtypes~=0.2.0 in /usr/local/lib/python3.10/dist-packages (from tensorflow) (0.2.0)\n",
            "Requirement already satisfied: numpy<2.0.0,>=1.23.5 in /usr/local/lib/python3.10/dist-packages (from tensorflow) (1.25.2)\n",
            "Requirement already satisfied: opt-einsum>=2.3.2 in /usr/local/lib/python3.10/dist-packages (from tensorflow) (3.3.0)\n",
            "Requirement already satisfied: packaging in /usr/local/lib/python3.10/dist-packages (from tensorflow) (24.0)\n",
            "Requirement already satisfied: protobuf!=4.21.0,!=4.21.1,!=4.21.2,!=4.21.3,!=4.21.4,!=4.21.5,<5.0.0dev,>=3.20.3 in /usr/local/lib/python3.10/dist-packages (from tensorflow) (3.20.3)\n",
            "Requirement already satisfied: setuptools in /usr/local/lib/python3.10/dist-packages (from tensorflow) (67.7.2)\n",
            "Requirement already satisfied: six>=1.12.0 in /usr/local/lib/python3.10/dist-packages (from tensorflow) (1.16.0)\n",
            "Requirement already satisfied: termcolor>=1.1.0 in /usr/local/lib/python3.10/dist-packages (from tensorflow) (2.4.0)\n",
            "Requirement already satisfied: typing-extensions>=3.6.6 in /usr/local/lib/python3.10/dist-packages (from tensorflow) (4.11.0)\n",
            "Requirement already satisfied: wrapt<1.15,>=1.11.0 in /usr/local/lib/python3.10/dist-packages (from tensorflow) (1.14.1)\n",
            "Requirement already satisfied: tensorflow-io-gcs-filesystem>=0.23.1 in /usr/local/lib/python3.10/dist-packages (from tensorflow) (0.37.0)\n",
            "Requirement already satisfied: grpcio<2.0,>=1.24.3 in /usr/local/lib/python3.10/dist-packages (from tensorflow) (1.64.0)\n",
            "Requirement already satisfied: tensorboard<2.16,>=2.15 in /usr/local/lib/python3.10/dist-packages (from tensorflow) (2.15.2)\n",
            "Requirement already satisfied: tensorflow-estimator<2.16,>=2.15.0 in /usr/local/lib/python3.10/dist-packages (from tensorflow) (2.15.0)\n",
            "Requirement already satisfied: keras<2.16,>=2.15.0 in /usr/local/lib/python3.10/dist-packages (from tensorflow) (2.15.0)\n",
            "Requirement already satisfied: wheel<1.0,>=0.23.0 in /usr/local/lib/python3.10/dist-packages (from astunparse>=1.6.0->tensorflow) (0.43.0)\n",
            "Requirement already satisfied: google-auth<3,>=1.6.3 in /usr/local/lib/python3.10/dist-packages (from tensorboard<2.16,>=2.15->tensorflow) (2.27.0)\n",
            "Requirement already satisfied: google-auth-oauthlib<2,>=0.5 in /usr/local/lib/python3.10/dist-packages (from tensorboard<2.16,>=2.15->tensorflow) (1.2.0)\n",
            "Requirement already satisfied: markdown>=2.6.8 in /usr/local/lib/python3.10/dist-packages (from tensorboard<2.16,>=2.15->tensorflow) (3.6)\n",
            "Requirement already satisfied: requests<3,>=2.21.0 in /usr/local/lib/python3.10/dist-packages (from tensorboard<2.16,>=2.15->tensorflow) (2.31.0)\n",
            "Requirement already satisfied: tensorboard-data-server<0.8.0,>=0.7.0 in /usr/local/lib/python3.10/dist-packages (from tensorboard<2.16,>=2.15->tensorflow) (0.7.2)\n",
            "Requirement already satisfied: werkzeug>=1.0.1 in /usr/local/lib/python3.10/dist-packages (from tensorboard<2.16,>=2.15->tensorflow) (3.0.3)\n",
            "Requirement already satisfied: cachetools<6.0,>=2.0.0 in /usr/local/lib/python3.10/dist-packages (from google-auth<3,>=1.6.3->tensorboard<2.16,>=2.15->tensorflow) (5.3.3)\n",
            "Requirement already satisfied: pyasn1-modules>=0.2.1 in /usr/local/lib/python3.10/dist-packages (from google-auth<3,>=1.6.3->tensorboard<2.16,>=2.15->tensorflow) (0.4.0)\n",
            "Requirement already satisfied: rsa<5,>=3.1.4 in /usr/local/lib/python3.10/dist-packages (from google-auth<3,>=1.6.3->tensorboard<2.16,>=2.15->tensorflow) (4.9)\n",
            "Requirement already satisfied: requests-oauthlib>=0.7.0 in /usr/local/lib/python3.10/dist-packages (from google-auth-oauthlib<2,>=0.5->tensorboard<2.16,>=2.15->tensorflow) (1.3.1)\n",
            "Requirement already satisfied: charset-normalizer<4,>=2 in /usr/local/lib/python3.10/dist-packages (from requests<3,>=2.21.0->tensorboard<2.16,>=2.15->tensorflow) (3.3.2)\n",
            "Requirement already satisfied: idna<4,>=2.5 in /usr/local/lib/python3.10/dist-packages (from requests<3,>=2.21.0->tensorboard<2.16,>=2.15->tensorflow) (3.7)\n",
            "Requirement already satisfied: urllib3<3,>=1.21.1 in /usr/local/lib/python3.10/dist-packages (from requests<3,>=2.21.0->tensorboard<2.16,>=2.15->tensorflow) (2.0.7)\n",
            "Requirement already satisfied: certifi>=2017.4.17 in /usr/local/lib/python3.10/dist-packages (from requests<3,>=2.21.0->tensorboard<2.16,>=2.15->tensorflow) (2024.2.2)\n",
            "Requirement already satisfied: MarkupSafe>=2.1.1 in /usr/local/lib/python3.10/dist-packages (from werkzeug>=1.0.1->tensorboard<2.16,>=2.15->tensorflow) (2.1.5)\n",
            "Requirement already satisfied: pyasn1<0.7.0,>=0.4.6 in /usr/local/lib/python3.10/dist-packages (from pyasn1-modules>=0.2.1->google-auth<3,>=1.6.3->tensorboard<2.16,>=2.15->tensorflow) (0.6.0)\n",
            "Requirement already satisfied: oauthlib>=3.0.0 in /usr/local/lib/python3.10/dist-packages (from requests-oauthlib>=0.7.0->google-auth-oauthlib<2,>=0.5->tensorboard<2.16,>=2.15->tensorflow) (3.2.2)\n"
          ]
        }
      ],
      "source": [
        "pip install tensorflow"
      ]
    },
    {
      "cell_type": "code",
      "execution_count": null,
      "metadata": {
        "id": "dhFYiTgwiBQR"
      },
      "outputs": [],
      "source": [
        "import tensorflow as tf\n",
        "from tensorflow.keras.preprocessing.image import ImageDataGenerator\n",
        "from tensorflow.keras.models import Sequential, load_model\n",
        "from tensorflow.keras.layers import Dense, GlobalAveragePooling2D\n",
        "from tensorflow.keras.optimizers import Adam\n",
        "from tensorflow.keras.applications import EfficientNetB1\n",
        "from tensorflow.keras.applications.efficientnet import EfficientNetB1, preprocess_input\n",
        "from tensorflow.keras.preprocessing import image\n",
        "from sklearn.metrics import classification_report, accuracy_score, f1_score, precision_score, recall_score\n",
        "from PIL import Image\n",
        "import numpy as np\n",
        "import matplotlib.pyplot as plt\n",
        "import urllib.request\n",
        "import zipfile\n",
        "import os\n",
        "import flask"
      ]
    },
    {
      "cell_type": "code",
      "execution_count": null,
      "metadata": {
        "id": "gyoprZimH3ud"
      },
      "outputs": [],
      "source": [
        "data_url = 'https://github.com/bay195/Waste-Classification/raw/main/Anorganik.zip'\n",
        "urllib.request.urlretrieve(data_url, 'Anorganik.zip')\n",
        "local_file = 'Anorganik.zip'\n",
        "zip_ref = zipfile.ZipFile(local_file, 'r')\n",
        "zip_ref.extractall('data/')\n",
        "zip_ref.close()"
      ]
    },
    {
      "cell_type": "code",
      "execution_count": null,
      "metadata": {
        "id": "D3G_YFKmIaKT"
      },
      "outputs": [],
      "source": [
        "BASE_DIR = 'data/Anorganik'\n",
        "train_dir = os.path.join(BASE_DIR, 'Train')\n",
        "validation_dir = os.path.join(BASE_DIR, 'Validation')"
      ]
    },
    {
      "cell_type": "code",
      "execution_count": null,
      "metadata": {
        "colab": {
          "base_uri": "https://localhost:8080/"
        },
        "id": "VKf1BR9UJRHr",
        "outputId": "05e74c5e-9fba-4d86-afd1-4e304c86795f"
      },
      "outputs": [
        {
          "output_type": "stream",
          "name": "stdout",
          "text": [
            "Found 2226 images belonging to 6 classes.\n",
            "Found 955 images belonging to 6 classes.\n"
          ]
        }
      ],
      "source": [
        "train_datagen = ImageDataGenerator(\n",
        "    preprocessing_function=preprocess_input,\n",
        "    rotation_range=40,\n",
        "    width_shift_range=0.2,\n",
        "    height_shift_range=0.2,\n",
        "    shear_range=0.2,\n",
        "    zoom_range=0.2,\n",
        "    horizontal_flip=True,\n",
        "    fill_mode='nearest'\n",
        ")\n",
        "\n",
        "validation_datagen = ImageDataGenerator(\n",
        "    preprocessing_function=preprocess_input\n",
        ")\n",
        "target_size = (224, 224)\n",
        "train_generator = train_datagen.flow_from_directory(\n",
        "    train_dir,\n",
        "    batch_size=32,\n",
        "    class_mode='categorical',\n",
        "    target_size=target_size\n",
        ")\n",
        "\n",
        "validation_generator = validation_datagen.flow_from_directory(\n",
        "    validation_dir,\n",
        "    batch_size=32,\n",
        "    class_mode='categorical',\n",
        "    target_size=target_size\n",
        ")"
      ]
    },
    {
      "cell_type": "code",
      "execution_count": null,
      "metadata": {
        "colab": {
          "base_uri": "https://localhost:8080/"
        },
        "id": "VPQB54tkKgNb",
        "outputId": "95f4fd55-9f0d-493a-b685-79ad317be98a"
      },
      "outputs": [
        {
          "output_type": "stream",
          "name": "stdout",
          "text": [
            "Downloading data from https://storage.googleapis.com/keras-applications/efficientnetb1_notop.h5\n",
            "27018416/27018416 [==============================] - 0s 0us/step\n"
          ]
        }
      ],
      "source": [
        "base_model = EfficientNetB1(include_top=False, input_shape=(224, 224, 3))"
      ]
    },
    {
      "cell_type": "code",
      "execution_count": null,
      "metadata": {
        "id": "zyZgEuTWLxUZ"
      },
      "outputs": [],
      "source": [
        "base_model.trainable = False"
      ]
    },
    {
      "cell_type": "code",
      "execution_count": null,
      "metadata": {
        "id": "vLpDfPClLz3s"
      },
      "outputs": [],
      "source": [
        "model = Sequential([\n",
        "    base_model,\n",
        "    GlobalAveragePooling2D(),\n",
        "    Dense(6, activation='softmax')\n",
        "])"
      ]
    },
    {
      "cell_type": "code",
      "execution_count": null,
      "metadata": {
        "id": "VyjfCjhML4Ey"
      },
      "outputs": [],
      "source": [
        "model.compile(optimizer=Adam(learning_rate=0.001),\n",
        "              loss='categorical_crossentropy',\n",
        "              metrics=['accuracy'])"
      ]
    },
    {
      "cell_type": "code",
      "execution_count": null,
      "metadata": {
        "id": "ucp2_dNIL56m"
      },
      "outputs": [],
      "source": [
        "callbacks = [\n",
        "    tf.keras.callbacks.EarlyStopping(monitor='val_loss', patience=5, restore_best_weights=True)\n",
        "]"
      ]
    },
    {
      "cell_type": "code",
      "execution_count": null,
      "metadata": {
        "colab": {
          "base_uri": "https://localhost:8080/"
        },
        "id": "iDI97LdFL7yT",
        "outputId": "75214ce1-a855-4d05-f58b-ac850bdf3f3b"
      },
      "outputs": [
        {
          "metadata": {
            "tags": null
          },
          "name": "stdout",
          "output_type": "stream",
          "text": [
            "Epoch 1/10\n",
            "69/69 [==============================] - ETA: 0s - loss: 0.7579 - accuracy: 0.7830"
          ]
        },
        {
          "metadata": {
            "tags": null
          },
          "name": "stderr",
          "output_type": "stream",
          "text": [
            "/usr/local/lib/python3.10/dist-packages/keras/src/engine/training.py:3103: UserWarning: You are saving your model as an HDF5 file via `model.save()`. This file format is considered legacy. We recommend using instead the native Keras format, e.g. `model.save('my_model.keras')`.\n",
            "  saving_api.save_model(\n"
          ]
        },
        {
          "output_type": "stream",
          "name": "stdout",
          "text": [
            "69/69 [==============================] - 387s 5s/step - loss: 0.7579 - accuracy: 0.7830 - val_loss: 0.3073 - val_accuracy: 0.9364\n",
            "Epoch 2/10\n",
            "69/69 [==============================] - 411s 6s/step - loss: 0.2992 - accuracy: 0.9280 - val_loss: 0.2024 - val_accuracy: 0.9494\n",
            "Epoch 3/10\n",
            "69/69 [==============================] - 357s 5s/step - loss: 0.2509 - accuracy: 0.9262 - val_loss: 0.1730 - val_accuracy: 0.9494\n",
            "Epoch 4/10\n",
            "69/69 [==============================] - 406s 6s/step - loss: 0.2023 - accuracy: 0.9412 - val_loss: 0.1532 - val_accuracy: 0.9591\n",
            "Epoch 5/10\n",
            "69/69 [==============================] - 400s 6s/step - loss: 0.1884 - accuracy: 0.9467 - val_loss: 0.1448 - val_accuracy: 0.9634\n",
            "Epoch 6/10\n",
            "69/69 [==============================] - 354s 5s/step - loss: 0.1563 - accuracy: 0.9581 - val_loss: 0.1386 - val_accuracy: 0.9569\n",
            "Epoch 7/10\n",
            "69/69 [==============================] - 360s 5s/step - loss: 0.1385 - accuracy: 0.9640 - val_loss: 0.1345 - val_accuracy: 0.9612\n",
            "Epoch 8/10\n",
            "69/69 [==============================] - 405s 6s/step - loss: 0.1365 - accuracy: 0.9640 - val_loss: 0.1286 - val_accuracy: 0.9623\n",
            "Epoch 9/10\n",
            "69/69 [==============================] - 356s 5s/step - loss: 0.1214 - accuracy: 0.9654 - val_loss: 0.1307 - val_accuracy: 0.9601\n",
            "Epoch 10/10\n",
            "69/69 [==============================] - 356s 5s/step - loss: 0.1215 - accuracy: 0.9631 - val_loss: 0.1261 - val_accuracy: 0.9623\n"
          ]
        }
      ],
      "source": [
        "history = model.fit(\n",
        "    train_generator,\n",
        "    steps_per_epoch=train_generator.samples // train_generator.batch_size,\n",
        "    validation_data=validation_generator,\n",
        "    validation_steps=validation_generator.samples // validation_generator.batch_size,\n",
        "    epochs=10,\n",
        "    callbacks=callbacks\n",
        ")"
      ]
    },
    {
      "cell_type": "code",
      "execution_count": null,
      "metadata": {
        "colab": {
          "base_uri": "https://localhost:8080/"
        },
        "id": "rncw_1NpXfIV",
        "outputId": "e9f6c572-4bb1-4e47-8e58-b9315db19248"
      },
      "outputs": [
        {
          "output_type": "stream",
          "name": "stdout",
          "text": [
            "30/30 [==============================] - 104s 3s/step - loss: 0.1245 - accuracy: 0.9623\n",
            "Validation Loss: 0.12454579025506973\n",
            "Validation Accuracy: 0.962303638458252\n"
          ]
        }
      ],
      "source": [
        "# Evaluate the model\n",
        "val_loss, val_accuracy = model.evaluate(validation_generator)\n",
        "print(f'Validation Loss: {val_loss}')\n",
        "print(f'Validation Accuracy: {val_accuracy}')"
      ]
    },
    {
      "cell_type": "code",
      "execution_count": null,
      "metadata": {
        "id": "kYUaY2I9sUN3"
      },
      "outputs": [],
      "source": [
        "model.save(\"efficiennetB1.h5\")"
      ]
    },
    {
      "cell_type": "code",
      "source": [
        "model = load_model(\"efficiennetB1.h5\")"
      ],
      "metadata": {
        "id": "3_hMVBzl4keZ"
      },
      "execution_count": null,
      "outputs": []
    },
    {
      "cell_type": "code",
      "execution_count": null,
      "metadata": {
        "colab": {
          "base_uri": "https://localhost:8080/"
        },
        "id": "GHMlD_umYXcO",
        "outputId": "d963ff49-23dd-4e13-c34b-b10dbd7eff6a"
      },
      "outputs": [
        {
          "output_type": "stream",
          "name": "stdout",
          "text": [
            "1/1 [==============================] - 3s 3s/step\n",
            "[[9.9741697e-01 1.7583800e-03 9.6238036e-05 4.1899292e-04 2.8899647e-05\n",
            "  2.8047187e-04]]\n"
          ]
        }
      ],
      "source": [
        "# Load and preprocess uploaded image\n",
        "img_path = 'test.jpg'  # Ganti dengan path gambar yang diunggah\n",
        "img = image.load_img(img_path, target_size=(224, 224))  # Sesuaikan dengan ukuran input model Anda\n",
        "img_array = image.img_to_array(img)\n",
        "img_array = np.expand_dims(img_array, axis=0)\n",
        "\n",
        "# Use preprocess_input function for EfficientNet\n",
        "img_array = preprocess_input(img_array)\n",
        "\n",
        "# Predict class\n",
        "prediction = model.predict(img_array)\n",
        "\n",
        "# Display result\n",
        "print(prediction)"
      ]
    },
    {
      "cell_type": "code",
      "execution_count": null,
      "metadata": {
        "id": "o9pkY7GiZ7JR"
      },
      "outputs": [],
      "source": [
        "# Memperoleh nama folder (kelas) dari generator pelatihan\n",
        "class_names_train = train_generator.class_indices\n",
        "print(\"Nama folder (kelas) dari generator pelatihan:\", class_names_train)\n",
        "\n",
        "# Memperoleh nama folder (kelas) dari generator validasi\n",
        "class_names_validation = validation_generator.class_indices\n",
        "print(\"Nama folder (kelas) dari generator validasi:\", class_names_validation)"
      ]
    },
    {
      "cell_type": "code",
      "execution_count": null,
      "metadata": {
        "id": "lIPTdOfjbiuq",
        "colab": {
          "base_uri": "https://localhost:8080/"
        },
        "outputId": "d601cd21-7656-4ec0-ce96-3c552c7a2bb0"
      },
      "outputs": [
        {
          "output_type": "stream",
          "name": "stdout",
          "text": [
            "Folder kategori yang diprediksi: BotolKaca\n"
          ]
        }
      ],
      "source": [
        "# Kamus yang memetakan indeks ke nama folder kategori\n",
        "class_names = {'BotolKaca': 0, 'BotolPlastik': 1, 'GelasDisposable': 2, 'Kaleng': 3, 'Kardus': 4, 'WadahKaca': 5}\n",
        "\n",
        "# Output probabilitas dari model\n",
        "output_probabilities = prediction\n",
        "\n",
        "# Konversi output probabilitas ke dalam array NumPy\n",
        "output_probabilities_array = np.array(output_probabilities)\n",
        "\n",
        "# Mendapatkan indeks dari kelas dengan probabilitas tertinggi\n",
        "predicted_class_index = np.argmax(output_probabilities_array)\n",
        "\n",
        "# Mendapatkan nama folder kategori berdasarkan indeks\n",
        "predicted_class_name = [name for name, index in class_names.items() if index == predicted_class_index][0]\n",
        "\n",
        "# Tampilkan nama folder kategori yang diprediksi\n",
        "print(\"Folder kategori yang diprediksi:\", predicted_class_name)\n"
      ]
    },
    {
      "cell_type": "code",
      "source": [
        "import matplotlib.pyplot as plt\n",
        "\n",
        "# Data riwayat pelatihan\n",
        "history = {\n",
        "    'loss': [0.7579, 0.2992, 0.2509, 0.2023, 0.1884, 0.1563, 0.1385, 0.1365, 0.1214, 0.1215],\n",
        "    'accuracy': [0.7830, 0.9280, 0.9262, 0.9412, 0.9467, 0.9581, 0.9640, 0.9640, 0.9654, 0.9631],\n",
        "    'val_loss': [0.3073, 0.2024, 0.1730, 0.1532, 0.1448, 0.1386, 0.1345, 0.1286, 0.1307, 0.1261],\n",
        "    'val_accuracy': [0.9364, 0.9494, 0.9494, 0.9591, 0.9634, 0.9569, 0.9612, 0.9623, 0.9601, 0.9623]\n",
        "}\n",
        "\n",
        "# Plot loss\n",
        "plt.plot(history['loss'], label='Training Loss')\n",
        "plt.plot(history['val_loss'], label='Validation Loss')\n",
        "plt.title('Training and Validation Loss')\n",
        "plt.xlabel('Epoch')\n",
        "plt.ylabel('Loss')\n",
        "plt.legend()\n",
        "plt.show()\n",
        "\n",
        "# Plot accuracy\n",
        "plt.plot(history['accuracy'], label='Training Accuracy')\n",
        "plt.plot(history['val_accuracy'], label='Validation Accuracy')\n",
        "plt.title('Training and Validation Accuracy')\n",
        "plt.xlabel('Epoch')\n",
        "plt.ylabel('Accuracy')\n",
        "plt.legend()\n",
        "plt.show()\n"
      ],
      "metadata": {
        "colab": {
          "base_uri": "https://localhost:8080/",
          "height": 927
        },
        "id": "xmOPJ6oSZzi0",
        "outputId": "647c3dc5-6b47-47f2-e2ee-792d419aecca"
      },
      "execution_count": null,
      "outputs": [
        {
          "output_type": "display_data",
          "data": {
            "text/plain": [
              "<Figure size 640x480 with 1 Axes>"
            ],
            "image/png": "[encoded data removed]"
          },
          "metadata": {}
        },
        {
          "output_type": "display_data",
          "data": {
            "text/plain": [
              "<Figure size 640x480 with 1 Axes>"
            ],
            "image/png": "[encoded data removed]"
          },
          "metadata": {}
        }
      ]
    },
    {
      "cell_type": "code",
      "source": [
        "# Download and extract dataset\n",
        "data_url = 'https://github.com/bay195/Waste-Classification/raw/main/Test.zip'\n",
        "urllib.request.urlretrieve(data_url, 'Test.zip')\n",
        "local_file = 'Test.zip'\n",
        "with zipfile.ZipFile(local_file, 'r') as zip_ref:\n",
        "    zip_ref.extractall('data/')\n"
      ],
      "metadata": {
        "id": "cHArwXIbeWUp"
      },
      "execution_count": null,
      "outputs": []
    },
    {
      "cell_type": "code",
      "source": [
        "# Define base directory\n",
        "BASE_DIR_DATA = 'data/'\n",
        "test_dir = os.path.join(BASE_DIR_DATA, 'Test')"
      ],
      "metadata": {
        "id": "tCQji_L-eyxA"
      },
      "execution_count": null,
      "outputs": []
    },
    {
      "cell_type": "code",
      "source": [
        "# Define image generator for test data\n",
        "def validate_images(directory):\n",
        "    for root, _, files in os.walk(directory):\n",
        "        for file in files:\n",
        "            try:\n",
        "                img_path = os.path.join(root, file)\n",
        "                with Image.open(img_path) as img:\n",
        "                    img.verify()  # Verify that it is, in fact, an image\n",
        "                # Open and load again to ensure it can be processed\n",
        "                with Image.open(img_path) as img:\n",
        "                    img.load()\n",
        "            except (IOError, SyntaxError, OSError) as e:\n",
        "                print(f\"Removing corrupted image: {img_path}\")\n",
        "                os.remove(img_path)\n",
        "\n",
        "# Validate images in test directory\n",
        "validate_images(test_dir)\n",
        "\n",
        "test_datagen = ImageDataGenerator(\n",
        "    preprocessing_function=preprocess_input\n",
        ")\n",
        "\n",
        "# Use the correct target size for EfficientNet (e.g., 224x224 for EfficientNetB0)\n",
        "target_size = (224, 224)\n",
        "\n",
        "# Create test data generator\n",
        "test_generator = test_datagen.flow_from_directory(\n",
        "    test_dir,\n",
        "    batch_size=32,\n",
        "    class_mode='categorical',\n",
        "    target_size=target_size,\n",
        "    shuffle=False  # Important: Do not shuffle test data\n",
        ")\n"
      ],
      "metadata": {
        "colab": {
          "base_uri": "https://localhost:8080/"
        },
        "id": "-7KjTTh0e2nW",
        "outputId": "7adb028e-7de9-4711-e019-cc63bc17f7de"
      },
      "execution_count": null,
      "outputs": [
        {
          "output_type": "stream",
          "name": "stdout",
          "text": [
            "Removing corrupted image: data/Test/GelasDisposable/GelasDisposableTest18.jpg\n",
            "Removing corrupted image: data/Test/GelasDisposable/GelasDisposableTest37.jpg\n",
            "Removing corrupted image: data/Test/GelasDisposable/GelasDisposableTest36.jpg\n",
            "Removing corrupted image: data/Test/GelasDisposable/GelasDisposableTest43.jpg\n",
            "Removing corrupted image: data/Test/GelasDisposable/GelasDisposableTest35.jpg\n",
            "Found 295 images belonging to 6 classes.\n"
          ]
        }
      ]
    },
    {
      "cell_type": "code",
      "source": [
        "model = load_model(\"efficiennetB1.h5\")"
      ],
      "metadata": {
        "id": "6J1HLTT7fY6O"
      },
      "execution_count": null,
      "outputs": []
    },
    {
      "cell_type": "code",
      "source": [
        "# Function to get valid images and predictions\n",
        "def get_valid_predictions(generator, model):\n",
        "    valid_predictions = []\n",
        "    valid_labels = []\n",
        "    for i in range(len(generator)):\n",
        "        try:\n",
        "            data, labels = generator[i]\n",
        "            preds = model.predict(data)\n",
        "            valid_predictions.extend(np.argmax(preds, axis=1))\n",
        "            valid_labels.extend(np.argmax(labels, axis=1))\n",
        "        except (OSError, IOError) as e:\n",
        "            print(f\"Skipping corrupted batch {i}\")\n",
        "    return np.array(valid_predictions), np.array(valid_labels)\n",
        "\n",
        "# Make predictions using the model\n",
        "predicted_labels, true_labels = get_valid_predictions(test_generator, model)\n",
        "# Get the class indices\n",
        "class_indices = test_generator.class_indices\n",
        "class_labels = list(class_indices.keys())\n",
        "\n",
        "# Print classification report which includes F1-score, recall, precision, etc.\n",
        "print(\"Classification Report:\")\n",
        "print(classification_report(true_labels, predicted_labels, target_names=class_labels))\n",
        "\n",
        "# Calculate and print individual metrics\n",
        "accuracy = accuracy_score(true_labels, predicted_labels)\n",
        "f1 = f1_score(true_labels, predicted_labels, average='weighted')\n",
        "precision = precision_score(true_labels, predicted_labels, average='weighted')\n",
        "recall = recall_score(true_labels, predicted_labels, average='weighted')\n",
        "\n",
        "print(f\"Accuracy: {accuracy}\")\n",
        "print(f\"F1 Score: {f1}\")\n",
        "print(f\"Precision: {precision}\")\n",
        "print(f\"Recall: {recall}\")"
      ],
      "metadata": {
        "colab": {
          "base_uri": "https://localhost:8080/"
        },
        "id": "nXBNcoJDfZxg",
        "outputId": "bef5ed7f-9e30-48b8-e956-03bce19f53d0"
      },
      "execution_count": null,
      "outputs": [
        {
          "output_type": "stream",
          "name": "stdout",
          "text": [
            "1/1 [==============================] - 6s 6s/step\n",
            "1/1 [==============================] - 3s 3s/step\n",
            "1/1 [==============================] - 3s 3s/step\n",
            "1/1 [==============================] - 4s 4s/step\n",
            "1/1 [==============================] - 3s 3s/step\n",
            "1/1 [==============================] - 4s 4s/step\n",
            "1/1 [==============================] - 3s 3s/step\n",
            "1/1 [==============================] - 3s 3s/step\n",
            "1/1 [==============================] - 5s 5s/step\n",
            "1/1 [==============================] - 3s 3s/step\n",
            "Classification Report:\n",
            "                 precision    recall  f1-score   support\n",
            "\n",
            "      BotolKaca       1.00      0.80      0.89        50\n",
            "   BotolPlastik       0.75      0.96      0.84        50\n",
            "GelasDisposable       1.00      0.87      0.93        45\n",
            "         Kaleng       0.74      0.86      0.80        50\n",
            "         Kardus       0.96      1.00      0.98        50\n",
            "      WadahKaca       0.93      0.78      0.85        50\n",
            "\n",
            "       accuracy                           0.88       295\n",
            "      macro avg       0.90      0.88      0.88       295\n",
            "   weighted avg       0.90      0.88      0.88       295\n",
            "\n",
            "Accuracy: 0.8779661016949153\n",
            "F1 Score: 0.8798683013350225\n",
            "Precision: 0.8951676610940201\n",
            "Recall: 0.8779661016949153\n"
          ]
        }
      ]
    }
  ],
  "metadata": {
    "colab": {
      "provenance": [],
      "include_colab_link": true
    },
    "kernelspec": {
      "display_name": "Python 3",
      "name": "python3"
    },
    "language_info": {
      "name": "python"
    }
  },
  "nbformat": 4,
  "nbformat_minor": 0
}